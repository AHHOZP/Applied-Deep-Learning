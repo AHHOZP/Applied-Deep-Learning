{
 "cells": [
  {
   "cell_type": "markdown",
   "metadata": {
    "id": "-PZihj-d_tEt"
   },
   "source": [
    "**Assignment 1**\n",
    "\n",
    "## About\n",
    "In this assignment, you will gain experience implementing a linear model, a neural network, and a deep neural network using TensorFlow 2.0. \n",
    "\n",
    "* You will use two different development styles. I thought it’d be helpful for you to see both of these early (if you’re familiar with them, you can branch out to any major framework that exist today). \n",
    "\n",
    "* Along the way, you'll add code to visualize the weights of a linear model, and provide your own implementation of softmax (so you learn to extend the built-in functionality right off the bat).\n",
    "\n",
    "This assignment has several parts, plan ahead and get started early (and come to office hours if you’re stuck, the TAs and I are happy to help). Most concepts will be covered in lecture two, just posting it early.\n",
    "\n",
    "## Instructions\n",
    "\n",
    "Complete the code in this notebook by searching for the text **\"TODO\"**.\n",
    "\n",
    "## Submission instructions\n",
    "\n",
    "Please submit this assignment on CourseWorks by uploading a Jupyter notebook that includes saved output. If you are working in Colab, you can prepare your notebook for submission by ensuring that runs end-to-end, then saving and downloading it:\n",
    "\n",
    "1. ```Runtime -> Restart and run all```\n",
    "1. ```File -> Save```\n",
    "1. ```File -> Download.ipynb```\n",
    "\n",
    "## Resources\n",
    "\n",
    "You can find all the latest tutorials for TensorFlow 2.0 [here](https://www.tensorflow.org/tutorials). Code examples that will help you with each part of the assignment are linked below.\n",
    "\n",
    "\n",
    "\n",
    "---\n",
    "\n"
   ]
  },
  {
   "cell_type": "markdown",
   "metadata": {
    "id": "KZ5ssDBBl9n6"
   },
   "source": [
    "## Setup"
   ]
  },
  {
   "cell_type": "markdown",
   "metadata": {
    "id": "MDj1_w6v-mYW"
   },
   "source": [
    "### Install TensorFlow 2.0\n",
    "\n",
    "The most recent version of TensorFlow is alreadey installed in Colab. If you prefer working in Jupyter locally, you will need to install TensorFlow following these [instructions](http://tensorflow.org/install)."
   ]
  },
  {
   "cell_type": "markdown",
   "metadata": {
    "id": "QYSALG-y-_7b"
   },
   "source": [
    "### Check which TF version is installed\n",
    "It's good practice to check which version you have installed."
   ]
  },
  {
   "cell_type": "code",
   "execution_count": 1,
   "metadata": {
    "colab": {
     "base_uri": "https://localhost:8080/",
     "height": 35
    },
    "id": "21RQ0x71Ut_t",
    "outputId": "3703e1b6-f202-4038-a5fb-0ff9192cd6d4"
   },
   "outputs": [
    {
     "name": "stdout",
     "output_type": "stream",
     "text": [
      "2.3.0\n"
     ]
    }
   ],
   "source": [
    "import tensorflow as tf\n",
    "print(tf.__version__)"
   ]
  },
  {
   "cell_type": "code",
   "execution_count": 2,
   "metadata": {
    "id": "JQPA61YHUvht"
   },
   "outputs": [],
   "source": [
    "from tensorflow.keras.layers import Dense, Flatten \n",
    "from tensorflow.keras import Model\n",
    "import matplotlib.pyplot as plt"
   ]
  },
  {
   "cell_type": "markdown",
   "metadata": {
    "id": "9vfWS0eYvzae"
   },
   "source": [
    "## Part 1: First steps with Sequential models\n",
    "\n",
    "You will work with the Sequential API in this section. This is the easiest way to develop models with TF 2.0, and is the most common in practice. \n",
    "\n",
    "Here are a few code examples that will help you with this part of the assignment:\n",
    "\n",
    "* [Get started for beginners](https://www.tensorflow.org/tutorials/quickstart/beginner)\n",
    "* [Classify images](https://www.tensorflow.org/tutorials/keras/basic_classification)\n",
    "* [Explore overfitting and underfitting](https://www.tensorflow.org/tutorials/keras/overfit_and_underfit)"
   ]
  },
  {
   "cell_type": "markdown",
   "metadata": {
    "id": "6X5681LTm0jC"
   },
   "source": [
    "### Download and prepare a dataset"
   ]
  },
  {
   "cell_type": "code",
   "execution_count": 3,
   "metadata": {
    "id": "KHL51OKlmwyw"
   },
   "outputs": [],
   "source": [
    "mnist = tf.keras.datasets.mnist\n",
    "\n",
    "(x_train, y_train), (x_test, y_test) = mnist.load_data()\n",
    "x_train, x_test = x_train / 255.0, x_test / 255.0"
   ]
  },
  {
   "cell_type": "markdown",
   "metadata": {
    "id": "daw-THC6m4u6"
   },
   "source": [
    "### Define, train, and evaluate a linear model"
   ]
  },
  {
   "cell_type": "code",
   "execution_count": 4,
   "metadata": {
    "colab": {
     "base_uri": "https://localhost:8080/",
     "height": 263
    },
    "id": "MHWcSJEQm8jB",
    "outputId": "6d487292-2749-489c-c8d9-2f0d6a961455"
   },
   "outputs": [
    {
     "name": "stdout",
     "output_type": "stream",
     "text": [
      "Epoch 1/5\n",
      "   1/1875 [..............................] - ETA: 0s - loss: 2.4267 - accuracy: 0.1250WARNING:tensorflow:Callbacks method `on_train_batch_end` is slow compared to the batch time (batch time: 0.0015s vs `on_train_batch_end` time: 0.0028s). Check your callbacks.\n",
      "1875/1875 [==============================] - 3s 2ms/step - loss: 0.4681 - accuracy: 0.8773\n",
      "Epoch 2/5\n",
      "1875/1875 [==============================] - 4s 2ms/step - loss: 0.3036 - accuracy: 0.9151\n",
      "Epoch 3/5\n",
      "1875/1875 [==============================] - 4s 2ms/step - loss: 0.2829 - accuracy: 0.9202\n",
      "Epoch 4/5\n",
      "1875/1875 [==============================] - 3s 2ms/step - loss: 0.2734 - accuracy: 0.9226\n",
      "Epoch 5/5\n",
      "1875/1875 [==============================] - 3s 2ms/step - loss: 0.2669 - accuracy: 0.9258\n",
      "313/313 [==============================] - 1s 2ms/step - loss: 0.2681 - accuracy: 0.9251\n"
     ]
    },
    {
     "data": {
      "text/plain": [
       "[0.268107533454895, 0.9251000285148621]"
      ]
     },
     "execution_count": 4,
     "metadata": {
      "tags": []
     },
     "output_type": "execute_result"
    }
   ],
   "source": [
    "model = tf.keras.models.Sequential([\n",
    "  tf.keras.layers.Flatten(input_shape=(28, 28)),\n",
    "  tf.keras.layers.Dense(10, activation='softmax')\n",
    "])\n",
    "\n",
    "model.compile(optimizer='adam',\n",
    "              loss='sparse_categorical_crossentropy',\n",
    "              metrics=['accuracy'])\n",
    "\n",
    "model.fit(x_train, y_train, epochs=5)\n",
    "model.evaluate(x_test, y_test)"
   ]
  },
  {
   "cell_type": "markdown",
   "metadata": {
    "id": "KyLE9HJbwRDp"
   },
   "source": [
    "### 1a: Plot loss and accuracy\n",
    "\n",
    "**TODO**\n",
    "\n",
    "Modify the code below to produce plots showing loss and accuracy as a function of epochs on training and validation data (it's fine to use x_test and y_test as validation data for this assignment). To do so, you will need to add validation data to the call for ```model.fit```, and capture the results in a history object. Code for plotting is provided for you, you can pass your history object to this.\n",
    "\n",
    "![Plot 1](https://storage.googleapis.com/applied-dl/im/a1-1.png)\n",
    "![Plot 2](https://storage.googleapis.com/applied-dl/im/a1-2.png)\n"
   ]
  },
  {
   "cell_type": "code",
   "execution_count": 5,
   "metadata": {
    "colab": {
     "base_uri": "https://localhost:8080/",
     "height": 920
    },
    "id": "xGFjRexynN11",
    "outputId": "2fcf06a0-eafb-41c7-e147-9e5b2ea1006c"
   },
   "outputs": [
    {
     "name": "stdout",
     "output_type": "stream",
     "text": [
      "Epoch 1/10\n",
      "1875/1875 [==============================] - 4s 2ms/step - loss: 0.4685 - accuracy: 0.8780 - val_loss: 0.3043 - val_accuracy: 0.9158\n",
      "Epoch 2/10\n",
      "1875/1875 [==============================] - 3s 2ms/step - loss: 0.3037 - accuracy: 0.9160 - val_loss: 0.2810 - val_accuracy: 0.9206\n",
      "Epoch 3/10\n",
      "1875/1875 [==============================] - 3s 2ms/step - loss: 0.2834 - accuracy: 0.9202 - val_loss: 0.2739 - val_accuracy: 0.9239\n",
      "Epoch 4/10\n",
      "1875/1875 [==============================] - 3s 2ms/step - loss: 0.2732 - accuracy: 0.9235 - val_loss: 0.2674 - val_accuracy: 0.9256\n",
      "Epoch 5/10\n",
      "1875/1875 [==============================] - 3s 2ms/step - loss: 0.2671 - accuracy: 0.9258 - val_loss: 0.2674 - val_accuracy: 0.9271\n",
      "Epoch 6/10\n",
      "1875/1875 [==============================] - 3s 2ms/step - loss: 0.2624 - accuracy: 0.9268 - val_loss: 0.2661 - val_accuracy: 0.9247\n",
      "Epoch 7/10\n",
      "1875/1875 [==============================] - 3s 2ms/step - loss: 0.2585 - accuracy: 0.9284 - val_loss: 0.2652 - val_accuracy: 0.9264\n",
      "Epoch 8/10\n",
      "1875/1875 [==============================] - 3s 2ms/step - loss: 0.2558 - accuracy: 0.9291 - val_loss: 0.2643 - val_accuracy: 0.9268\n",
      "Epoch 9/10\n",
      "1875/1875 [==============================] - 3s 2ms/step - loss: 0.2533 - accuracy: 0.9299 - val_loss: 0.2680 - val_accuracy: 0.9262\n",
      "Epoch 10/10\n",
      "1875/1875 [==============================] - 3s 2ms/step - loss: 0.2507 - accuracy: 0.9308 - val_loss: 0.2664 - val_accuracy: 0.9257\n"
     ]
    },
    {
     "data": {
      "image/png": "[encoded data removed]",
      "text/plain": [
       "<Figure size 432x288 with 1 Axes>"
      ]
     },
     "metadata": {
      "needs_background": "light",
      "tags": []
     },
     "output_type": "display_data"
    },
    {
     "data": {
      "image/png": "[encoded data removed]",
      "text/plain": [
       "<Figure size 432x288 with 1 Axes>"
      ]
     },
     "metadata": {
      "needs_background": "light",
      "tags": []
     },
     "output_type": "display_data"
    }
   ],
   "source": [
    "model = tf.keras.models.Sequential([\n",
    "  tf.keras.layers.Flatten(input_shape=(28, 28)),\n",
    "  tf.keras.layers.Dense(10, activation='softmax')\n",
    "])\n",
    "\n",
    "model.compile(optimizer='adam',\n",
    "              loss='sparse_categorical_crossentropy',\n",
    "              metrics=['accuracy'])\n",
    "\n",
    "\n",
    "# TODO\n",
    "#\n",
    "# 1. create a history object to store the results of model.fit\n",
    "# ```history = model.fit(...)```\n",
    "#\n",
    "# 2. add another parameter to model.fit for validation data\n",
    "# https://keras.io/models/sequential/\n",
    "\n",
    "history = model.fit(x_train, y_train, epochs=10, validation_data=(x_test,y_test))\n",
    "\n",
    "\n",
    "# A plotting function you can reuse\n",
    "def plot(history):\n",
    "  \n",
    "  # The history object contains results on the training and test\n",
    "  # sets for each epoch\n",
    "  acc = history.history['accuracy']\n",
    "  val_acc = history.history['val_accuracy']\n",
    "  loss = history.history['loss']\n",
    "  val_loss = history.history['val_loss']\n",
    "\n",
    "  # Get the number of epochs\n",
    "  epochs = range(len(acc))\n",
    "\n",
    "  plt.title('Training and validation accuracy')\n",
    "  plt.plot(epochs, acc, color='blue', label='Train')\n",
    "  plt.plot(epochs, val_acc, color='orange', label='Val')\n",
    "  plt.xlabel('Epoch')\n",
    "  plt.ylabel('Accuracy')\n",
    "  plt.legend()\n",
    "\n",
    "  _ = plt.figure()\n",
    "  plt.title('Training and validation loss')\n",
    "  plt.plot(epochs, loss, color='blue', label='Train')\n",
    "  plt.plot(epochs, val_loss, color='orange', label='Val')\n",
    "  plt.xlabel('Epoch')\n",
    "  plt.ylabel('Loss')\n",
    "  plt.legend()\n",
    "  \n",
    "plot(history)"
   ]
  },
  {
   "cell_type": "markdown",
   "metadata": {
    "id": "4EhrKNT8wfgD"
   },
   "source": [
    "### 1b: Implement a neural network \n",
    "\n",
    "**TODO**\n",
    "\n",
    "Modify the code below to create a neural network (with a single hidden layer). Add a Dense layer with 128 units and ReLU activation. Train and evaluate your model. How does the accuracy compare with the linear model above? It is not necessary to produce plots for this section."
   ]
  },
  {
   "cell_type": "code",
   "execution_count": 6,
   "metadata": {
    "colab": {
     "base_uri": "https://localhost:8080/",
     "height": 208
    },
    "id": "FYUgpSwPq-HF",
    "outputId": "310971ba-9e8d-499f-962e-4c177628764e"
   },
   "outputs": [
    {
     "name": "stdout",
     "output_type": "stream",
     "text": [
      "Epoch 1/5\n",
      "1875/1875 [==============================] - 3s 2ms/step - loss: 0.2624 - accuracy: 0.9254\n",
      "Epoch 2/5\n",
      "1875/1875 [==============================] - 3s 2ms/step - loss: 0.1145 - accuracy: 0.9664\n",
      "Epoch 3/5\n",
      "1875/1875 [==============================] - 3s 2ms/step - loss: 0.0797 - accuracy: 0.9759\n",
      "Epoch 4/5\n",
      "1875/1875 [==============================] - 3s 2ms/step - loss: 0.0608 - accuracy: 0.9814\n",
      "Epoch 5/5\n",
      "1875/1875 [==============================] - 3s 2ms/step - loss: 0.0471 - accuracy: 0.9853\n"
     ]
    },
    {
     "data": {
      "text/plain": [
       "<tensorflow.python.keras.callbacks.History at 0x7f333c1aee48>"
      ]
     },
     "execution_count": 6,
     "metadata": {
      "tags": []
     },
     "output_type": "execute_result"
    }
   ],
   "source": [
    "model = tf.keras.models.Sequential([\n",
    "  tf.keras.layers.Flatten(input_shape=(28, 28)),\n",
    "  # TODO: Add a layer here\n",
    "  tf.keras.layers.Dense(128, activation='relu'),\n",
    "  tf.keras.layers.Dense(10, activation='softmax')\n",
    "])\n",
    "\n",
    "model.compile(optimizer='adam',\n",
    "              loss='sparse_categorical_crossentropy',\n",
    "              metrics=['accuracy'])\n",
    "\n",
    "model.fit(x_train, y_train, epochs=5)"
   ]
  },
  {
   "cell_type": "markdown",
   "metadata": {
    "id": "NwhwFDIZyCi2"
   },
   "source": [
    "# How does the accuracy compare with the linear model above? \n",
    "The accuracy was obviously improved.\n",
    "After once training the loss is lower than linear model, and accuracy is higher than linear model after 5 times training."
   ]
  },
  {
   "cell_type": "markdown",
   "metadata": {
    "id": "V18pDvPzwh6l"
   },
   "source": [
    "### 1c: Implement a deep neural network \n",
    "\n",
    "**TODO**\n",
    "\n",
    "Modify the code below to create and train a deep neural network with at least two hidden layers."
   ]
  },
  {
   "cell_type": "code",
   "execution_count": 7,
   "metadata": {
    "colab": {
     "base_uri": "https://localhost:8080/",
     "height": 208
    },
    "id": "K0odgGhmrNNh",
    "outputId": "4455089e-7823-47af-e59e-bc5f6a014d8e"
   },
   "outputs": [
    {
     "name": "stdout",
     "output_type": "stream",
     "text": [
      "Epoch 1/5\n",
      "1875/1875 [==============================] - 3s 2ms/step - loss: 0.2049 - accuracy: 0.9386\n",
      "Epoch 2/5\n",
      "1875/1875 [==============================] - 3s 2ms/step - loss: 0.0859 - accuracy: 0.9737\n",
      "Epoch 3/5\n",
      "1875/1875 [==============================] - 3s 2ms/step - loss: 0.0591 - accuracy: 0.9815\n",
      "Epoch 4/5\n",
      "1875/1875 [==============================] - 3s 2ms/step - loss: 0.0459 - accuracy: 0.9848\n",
      "Epoch 5/5\n",
      "1875/1875 [==============================] - 3s 2ms/step - loss: 0.0340 - accuracy: 0.9894\n"
     ]
    },
    {
     "data": {
      "text/plain": [
       "<tensorflow.python.keras.callbacks.History at 0x7f333c1ae240>"
      ]
     },
     "execution_count": 7,
     "metadata": {
      "tags": []
     },
     "output_type": "execute_result"
    }
   ],
   "source": [
    "model = tf.keras.models.Sequential([\n",
    "  tf.keras.layers.Flatten(input_shape=(28, 28)),\n",
    "  # TODO: Add two layers here\n",
    "  tf.keras.layers.Dense(256, activation='relu'),\n",
    "  tf.keras.layers.Dense(128, activation='relu'),\n",
    "  tf.keras.layers.Dense(10, activation='softmax')\n",
    "])\n",
    "\n",
    "model.compile(optimizer='adam',\n",
    "              loss='sparse_categorical_crossentropy',\n",
    "              metrics=['accuracy'])\n",
    "\n",
    "model.fit(x_train, y_train, epochs=5)"
   ]
  },
  {
   "cell_type": "markdown",
   "metadata": {
    "id": "NkmnVGG-wnyw"
   },
   "source": [
    "### 1d: Display predictions and their confidence \n",
    "\n",
    "**TODO**\n",
    "\n",
    "1. Choose one of your models above. Use it to make predictions on the entire test set using ```model.predict```\n",
    "\n",
    "2. Next, identify one image from the testing set the model classifies correctly, and another that it classifies incorrectly. Add code to display these images below, the correct labels, the predicted labels, and the confidence scores."
   ]
  },
  {
   "cell_type": "code",
   "execution_count": 8,
   "metadata": {
    "colab": {
     "base_uri": "https://localhost:8080/",
     "height": 652
    },
    "id": "BPd5NvaV1XEx",
    "outputId": "c1f1f403-1ef3-4126-ffbb-3eec0f69a161"
   },
   "outputs": [
    {
     "data": {
      "image/png": "[encoded data removed]",
      "text/plain": [
       "<Figure size 432x288 with 1 Axes>"
      ]
     },
     "metadata": {
      "needs_background": "light",
      "tags": []
     },
     "output_type": "display_data"
    },
    {
     "name": "stdout",
     "output_type": "stream",
     "text": [
      "correct label: 7\n",
      "predicted label: 7\n",
      "confidence score: [2.8802037e-06 4.5883557e-05 2.3075176e-05 2.7709631e-03 1.9054667e-07\n",
      " 3.6142253e-06 1.8609182e-07 9.9991989e+01 7.2149654e-05 5.0989967e-03]\n"
     ]
    },
    {
     "data": {
      "image/png": "[encoded data removed]",
      "text/plain": [
       "<Figure size 432x288 with 1 Axes>"
      ]
     },
     "metadata": {
      "needs_background": "light",
      "tags": []
     },
     "output_type": "display_data"
    },
    {
     "name": "stdout",
     "output_type": "stream",
     "text": [
      "correct label: 4\n",
      "predicted label: 2\n",
      "confidence score: [2.0832738e-05 8.9725552e-05 9.3753204e+01 6.7665064e-07 1.3909137e-02\n",
      " 7.8713574e-06 6.2327523e+00 3.0112808e-06 6.4674573e-06 4.1094683e-10]\n"
     ]
    }
   ],
   "source": [
    "# TODO: add your code here\n",
    "y_prob = model.predict(x_test)\n",
    "y_class = y_prob.argmax(axis=-1)\n",
    "\n",
    "for i in range(len(x_test)):\n",
    "\n",
    "  if y_class[i] == y_test[i]:\n",
    "    plt.imshow(x_test[i])\n",
    "    plt.show()\n",
    "    print('correct label:', y_test[i]) \n",
    "    print('predicted label:', y_class[i]) \n",
    "    print('confidence score:', y_prob[i]*100)\n",
    "    break\n",
    "\n",
    "\n",
    "for j in range(len(x_test)):\n",
    "\n",
    "  if y_class[j] != y_test[j]:\n",
    "    plt.imshow(x_test[j])\n",
    "    plt.show()\n",
    "    print('correct label:', y_test[j]) \n",
    "    print('predicted label:', y_class[j]) \n",
    "    print('confidence score:', y_prob[j]*100)\n",
    "    break\n"
   ]
  },
  {
   "cell_type": "markdown",
   "metadata": {
    "id": "ca0nFGJdv3H2"
   },
   "source": [
    "## Part 2: Subclassed models\n",
    "\n",
    "In this part of the assignment, you'll work with the Keras Subclassing API. Instead of using a built-in method (```model.fit```) you will train models using a GradientTape.\n",
    "\n",
    "Here are a few code examples that will help you with this part of the assignment:\n",
    "\n",
    "* [Get started for experts](https://www.tensorflow.org/tutorials/quickstart/advanced)\n",
    "* [Eager execution](https://www.tensorflow.org/guide/eager)\n",
    "* [Keras overview](https://www.tensorflow.org/guide/keras/overview)\n",
    "* [Writing custom models](https://www.tensorflow.org/guide/keras/custom_layers_and_models)"
   ]
  },
  {
   "cell_type": "markdown",
   "metadata": {
    "id": "xB6r75B5teHv"
   },
   "source": [
    "### Download and prepare a dataset\n",
    "This is similar to the above, except now we'll use ```tf.data``` to batch and shuffle the data, instead of the utilities baked into ```model.fit```. It's not necessary for this assignment, but if you wish, you can learn how to use tf.data [here](https://www.tensorflow.org/guide/data)."
   ]
  },
  {
   "cell_type": "code",
   "execution_count": 9,
   "metadata": {
    "id": "kYbkeJJqtm0h"
   },
   "outputs": [],
   "source": [
    "# Download a dataset\n",
    "(x_train, y_train), (x_test, y_test) = tf.keras.datasets.mnist.load_data()\n",
    "\n",
    "# Batch and shuffle the data\n",
    "train_ds = tf.data.Dataset.from_tensor_slices(\n",
    "    (x_train.astype('float32') / 255, y_train)).shuffle(1024).batch(32)\n",
    "\n",
    "test_ds = tf.data.Dataset.from_tensor_slices(\n",
    "    (x_test.astype('float32') / 255, y_test)).batch(32)"
   ]
  },
  {
   "cell_type": "code",
   "execution_count": 10,
   "metadata": {
    "colab": {
     "base_uri": "https://localhost:8080/",
     "height": 283
    },
    "id": "_JlSs-3qvCgi",
    "outputId": "bb97b6af-7c25-4472-d01d-8720bcb68342"
   },
   "outputs": [
    {
     "name": "stdout",
     "output_type": "stream",
     "text": [
      "tf.Tensor(9, shape=(), dtype=uint8)\n"
     ]
    },
    {
     "data": {
      "image/png": "[encoded data removed]",
      "text/plain": [
       "<Figure size 432x288 with 1 Axes>"
      ]
     },
     "metadata": {
      "needs_background": "light",
      "tags": []
     },
     "output_type": "display_data"
    }
   ],
   "source": [
    "# A quick example of iterating over a dataset object\n",
    "for image, label in train_ds.take(1):\n",
    "  plt.imshow(image[0], plt.get_cmap('gray'))\n",
    "  print(label[0])"
   ]
  },
  {
   "cell_type": "markdown",
   "metadata": {
    "id": "0Nmw1h6stTg5"
   },
   "source": [
    "### Define and train a linear model"
   ]
  },
  {
   "cell_type": "code",
   "execution_count": 11,
   "metadata": {
    "id": "BWGJoufMtbHA"
   },
   "outputs": [],
   "source": [
    "class MyLinearModel(Model):\n",
    "  def __init__(self):\n",
    "    super(MyLinearModel, self).__init__()\n",
    "    self.flatten = Flatten()\n",
    "    self.d1 = Dense(10, activation='softmax', name=\"dense1\")\n",
    "\n",
    "  def call(self, x):\n",
    "    x = self.flatten(x)\n",
    "    return self.d1(x)"
   ]
  },
  {
   "cell_type": "code",
   "execution_count": 12,
   "metadata": {
    "colab": {
     "base_uri": "https://localhost:8080/",
     "height": 104
    },
    "id": "35tIz37EttdP",
    "outputId": "076ef665-a6d3-47a0-ef5b-2329010f967c"
   },
   "outputs": [
    {
     "name": "stdout",
     "output_type": "stream",
     "text": [
      "Epoch 1, Loss: 0.7756684422492981, Accuracy: 81.84666442871094, Test Loss: 0.4771239161491394, Test Accuracy: 88.06999969482422\n",
      "Epoch 2, Loss: 0.45570483803749084, Accuracy: 88.0, Test Loss: 0.39873966574668884, Test Accuracy: 89.3800048828125\n",
      "Epoch 3, Loss: 0.4034115672111511, Accuracy: 89.09500122070312, Test Loss: 0.3661925792694092, Test Accuracy: 90.01000213623047\n",
      "Epoch 4, Loss: 0.37702876329421997, Accuracy: 89.69166564941406, Test Loss: 0.3477098345756531, Test Accuracy: 90.47000122070312\n",
      "Epoch 5, Loss: 0.3603168725967407, Accuracy: 90.05166625976562, Test Loss: 0.33522629737854004, Test Accuracy: 90.90999603271484\n"
     ]
    }
   ],
   "source": [
    "model = MyLinearModel()\n",
    "\n",
    "loss_fn = tf.keras.losses.SparseCategoricalCrossentropy()\n",
    "optimizer = tf.keras.optimizers.SGD()\n",
    "\n",
    "train_loss = tf.keras.metrics.Mean(name='train_loss')\n",
    "train_accuracy = tf.keras.metrics.SparseCategoricalAccuracy(name='train_accuracy')\n",
    "\n",
    "test_loss = tf.keras.metrics.Mean(name='test_loss')\n",
    "test_accuracy = tf.keras.metrics.SparseCategoricalAccuracy(name='test_accuracy')\n",
    "\n",
    "# For each epoch\n",
    "for epoch in range(5):\n",
    "\n",
    "  # For each batch of images and labels\n",
    "  for images, labels in train_ds:\n",
    "\n",
    "    # Open a GradientTape.\n",
    "    with tf.GradientTape() as tape:\n",
    "\n",
    "      # Forward pass\n",
    "      predictions = model(images)\n",
    "\n",
    "      # Calculate loss\n",
    "      loss = loss_fn(labels, predictions)\n",
    "      train_loss(loss)\n",
    "      train_accuracy(labels, predictions)\n",
    "\n",
    "\n",
    "    # Backprop to calculate gradients\n",
    "    gradients = tape.gradient(loss, model.trainable_variables)\n",
    "\n",
    "    # Gradient descent step\n",
    "    optimizer.apply_gradients(zip(gradients, model.trainable_variables))\n",
    "\n",
    "  # Calculate loss on the test data\n",
    "  for images, labels in test_ds: \n",
    "    predictions = model(images)\n",
    "    loss_on_batch = loss_fn(labels, predictions)\n",
    "    test_loss(loss_on_batch)\n",
    "    test_accuracy(labels, predictions)\n",
    "    \n",
    "  template = 'Epoch {}, Loss: {}, Accuracy: {}, Test Loss: {}, Test Accuracy: {}'\n",
    "  print(template.format(epoch+1,\n",
    "                        train_loss.result(),\n",
    "                        train_accuracy.result()*100,\n",
    "                        test_loss.result(),\n",
    "                        test_accuracy.result()*100))\n",
    "\n",
    "  # Reset the metrics for the next epoch\n",
    "  train_loss.reset_states()\n",
    "  train_accuracy.reset_states()\n",
    "  test_loss.reset_states()\n",
    "  test_accuracy.reset_states()"
   ]
  },
  {
   "cell_type": "markdown",
   "metadata": {
    "id": "mEO51Mvi1jOT"
   },
   "source": [
    "Note: you may have noticed that the above code runs slowly (it's executing eagerly). Later in this notebook, you will compile your code (to run it in graph mode) using ```@tf.function```. The general workflow is to write your code without using tf.function (as shown above, which makes for easier debugging). Once you've finished debugging your model, you can add ```@tf.function``` for performance if necessary."
   ]
  },
  {
   "cell_type": "markdown",
   "metadata": {
    "id": "dj7Y8JWgwv9Z"
   },
   "source": [
    "### 2a: Visualize the learned weights\n",
    "\n",
    "We can interpret a linear model by looking at the weights of the fully connected layer. Modify the below code to create a plot similar to the one on from lecture 1:\n",
    "\n",
    "![Plot of weights](https://storage.googleapis.com/applied-dl/im/mnist-weights.png)\n",
    "\n",
    "**TODO**\n",
    "\n",
    "Modify the below code to retrieve the learned weights. You can use either the public API of a model ```model.get_layer(name)``` then retrieve the weights from that, or (because our model is defined using the Subclassing API), you can access the dense layer directly ```model.d1```."
   ]
  },
  {
   "cell_type": "code",
   "execution_count": 13,
   "metadata": {
    "colab": {
     "base_uri": "https://localhost:8080/",
     "height": 35
    },
    "id": "JiQZV03RuWHM",
    "outputId": "7889e714-ebf9-41b6-86f4-2e0226126b32"
   },
   "outputs": [
    {
     "name": "stdout",
     "output_type": "stream",
     "text": [
      "(784, 10)\n"
     ]
    }
   ],
   "source": [
    "# There are two ways to retrieve the weights. You can use the public API\n",
    "# (model.get_layer(name).get_weights()), or, you can access the dense layer \n",
    "# directly (model.dl) then find the accessor method, or again, access the\n",
    "# variable directly.\n",
    "# Python tip: try ```dir(model.d1)```\n",
    "#model.get_layer('dense1').get_weights()\n",
    "#model.d1.get_weights()\n",
    "# TODO: modify this code to get the weights\n",
    "weights, bias = model.d1.get_weights() # get the weights\n",
    "print(weights.shape)"
   ]
  },
  {
   "cell_type": "code",
   "execution_count": 14,
   "metadata": {
    "colab": {
     "base_uri": "https://localhost:8080/",
     "height": 141
    },
    "id": "oz3VV2EiuY7X",
    "outputId": "5347a16f-d8b0-4cf2-93e0-3425894effdd"
   },
   "outputs": [
    {
     "data": {
      "image/png": "[encoded data removed]",
      "text/plain": [
       "<Figure size 1440x1440 with 10 Axes>"
      ]
     },
     "metadata": {
      "needs_background": "light",
      "tags": []
     },
     "output_type": "display_data"
    }
   ],
   "source": [
    "fig, axs = plt.subplots(1,10, figsize=(20,20))\n",
    "for i in range(10):\n",
    "  subplot = axs[i]\n",
    "  subplot.set_title(i)\n",
    "  subplot.axis('off')\n",
    "  # TODO: modify this code to complete the plotting function\n",
    "  i_weights = weights[:,i] # Select the weights for the i'th output\n",
    "  img = i_weights.reshape((28, 28)) # Reshape the weights into a 28x28 array\n",
    "  subplot.imshow(img, plt.get_cmap('RdBu'))\n",
    "plt.show()"
   ]
  },
  {
   "cell_type": "markdown",
   "metadata": {
    "id": "HNBCIqzdw2GS"
   },
   "source": [
    "### 2b: Implement a deep neural network\n",
    "\n",
    "**TODO**\n",
    "\n",
    "Modify this code to create a deep neural network. Train your model using the code below, and compare the accuracy to the linear model above. \n",
    "\n",
    "Note: you do not need to modify any sections other than the model definition and the call method. \n",
    "\n",
    "The code below uses compiled versions of the training and evaluation loops (remove the ```@tf.function``` annotations if you need to debug)."
   ]
  },
  {
   "cell_type": "code",
   "execution_count": 15,
   "metadata": {
    "id": "rxoIfq91xDRZ"
   },
   "outputs": [],
   "source": [
    "class MyDNN(Model):\n",
    "  def __init__(self):\n",
    "    super(MyDNN, self).__init__()\n",
    "    self.flatten = Flatten()\n",
    "    # Modify me\n",
    "    self.d1 = Dense(10, activation='softmax')\n",
    "    self.d2 = Dense(128, activation='relu')\n",
    "\n",
    "  def call(self, x):\n",
    "    x = self.flatten(x)\n",
    "    x = self.d2(x)\n",
    "    return self.d1(x)\n",
    "\n",
    "model = MyDNN()"
   ]
  },
  {
   "cell_type": "code",
   "execution_count": 16,
   "metadata": {
    "id": "hVDDq2orxPBR"
   },
   "outputs": [],
   "source": [
    "loss_object = tf.keras.losses.SparseCategoricalCrossentropy()\n",
    "optimizer = tf.keras.optimizers.Adam()"
   ]
  },
  {
   "cell_type": "markdown",
   "metadata": {
    "id": "WNC0K6JPxy-g"
   },
   "source": [
    "These are helper functions we'll use to record loss and accuracy while your model is trained."
   ]
  },
  {
   "cell_type": "code",
   "execution_count": 17,
   "metadata": {
    "id": "duYKrACkxRHw"
   },
   "outputs": [],
   "source": [
    "train_loss = tf.keras.metrics.Mean(name='train_loss')\n",
    "train_accuracy = tf.keras.metrics.SparseCategoricalAccuracy(name='train_accuracy')\n",
    "\n",
    "test_loss = tf.keras.metrics.Mean(name='test_loss')\n",
    "test_accuracy = tf.keras.metrics.SparseCategoricalAccuracy(name='test_accuracy')"
   ]
  },
  {
   "cell_type": "markdown",
   "metadata": {
    "id": "C_oUQki5x0lD"
   },
   "source": [
    "This method trains the model on a batch of data."
   ]
  },
  {
   "cell_type": "code",
   "execution_count": 18,
   "metadata": {
    "id": "yTQAnrOAxUAu"
   },
   "outputs": [],
   "source": [
    "@tf.function\n",
    "def train_step(images, labels):\n",
    "  with tf.GradientTape() as tape:\n",
    "    predictions = model(images)\n",
    "    loss = loss_object(labels, predictions)\n",
    "  gradients = tape.gradient(loss, model.trainable_variables)\n",
    "  optimizer.apply_gradients(zip(gradients, model.trainable_variables))\n",
    "\n",
    "  train_loss(loss)\n",
    "  train_accuracy(labels, predictions)"
   ]
  },
  {
   "cell_type": "markdown",
   "metadata": {
    "id": "-lUJFkfux44o"
   },
   "source": [
    "This method evaluates the model on a batch of data."
   ]
  },
  {
   "cell_type": "code",
   "execution_count": 19,
   "metadata": {
    "id": "BTMp9PwZxV5h"
   },
   "outputs": [],
   "source": [
    "@tf.function\n",
    "def test_step(images, labels):\n",
    "  predictions = model(images)\n",
    "  t_loss = loss_object(labels, predictions)\n",
    "\n",
    "  test_loss(t_loss)\n",
    "  test_accuracy(labels, predictions)"
   ]
  },
  {
   "cell_type": "markdown",
   "metadata": {
    "id": "AR0_bNd-x6OE"
   },
   "source": [
    "Training and evaluation loop."
   ]
  },
  {
   "cell_type": "code",
   "execution_count": 20,
   "metadata": {
    "colab": {
     "base_uri": "https://localhost:8080/",
     "height": 104
    },
    "id": "enHqlaCfxXq3",
    "outputId": "322e1873-9b19-445b-9191-7e990bf66958"
   },
   "outputs": [
    {
     "name": "stdout",
     "output_type": "stream",
     "text": [
      "Epoch 1, Loss: 0.2557116746902466, Accuracy: 92.81999969482422, Test Loss: 0.15129683911800385, Test Accuracy: 95.49000549316406\n",
      "Epoch 2, Loss: 0.11503047496080399, Accuracy: 96.62833404541016, Test Loss: 0.11228683590888977, Test Accuracy: 96.51000213623047\n",
      "Epoch 3, Loss: 0.0782460942864418, Accuracy: 97.71500396728516, Test Loss: 0.0932948887348175, Test Accuracy: 97.1199951171875\n",
      "Epoch 4, Loss: 0.057646892964839935, Accuracy: 98.25333404541016, Test Loss: 0.08473452180624008, Test Accuracy: 97.31999969482422\n",
      "Epoch 5, Loss: 0.04461903125047684, Accuracy: 98.61666870117188, Test Loss: 0.08112405985593796, Test Accuracy: 97.48999786376953\n"
     ]
    }
   ],
   "source": [
    "EPOCHS = 5\n",
    "\n",
    "for epoch in range(EPOCHS):\n",
    "  for images, labels in train_ds:\n",
    "    train_step(images, labels)\n",
    "\n",
    "  for test_images, test_labels in test_ds:\n",
    "    test_step(test_images, test_labels)\n",
    "\n",
    "  template = 'Epoch {}, Loss: {}, Accuracy: {}, Test Loss: {}, Test Accuracy: {}'\n",
    "  print(template.format(epoch+1,\n",
    "                        train_loss.result(),\n",
    "                        train_accuracy.result()*100,\n",
    "                        test_loss.result(),\n",
    "                        test_accuracy.result()*100))\n",
    "\n",
    "  # Reset the metrics for the next epoch\n",
    "  train_loss.reset_states()\n",
    "  train_accuracy.reset_states()\n",
    "  test_loss.reset_states()\n",
    "  test_accuracy.reset_states()"
   ]
  },
  {
   "cell_type": "markdown",
   "metadata": {
    "id": "HqDW9ugWz5AE"
   },
   "source": [
    "# Compare the accuracy to the linear model above\n",
    "The accuracy was obviously improved.\n",
    "After once training the loss is lower than linear model, and accuracy is higher than linear model after 5 times training."
   ]
  },
  {
   "cell_type": "markdown",
   "metadata": {
    "id": "ZxjIFiyBPorB"
   },
   "source": [
    "### 2c: Provide your own implementation of softmax and use it to train a model\n",
    "\n",
    "In your linear model above, the starter code looked similar to: \n",
    "\n",
    "\n",
    "```\n",
    "class LinearModel(Model):\n",
    "  def __init__(self):\n",
    "    super(LinearModel, self).__init__()\n",
    "    self.flatten = Flatten()\n",
    "    self.d1 = Dense(10, activation='softmax')\n",
    "\n",
    "  def call(self, x):\n",
    "    x = self.flatten(x)\n",
    "    return self.d1(x)\n",
    "``` \n",
    "\n",
    "Now, create a function:\n",
    "\n",
    "\n",
    "```\n",
    "def my_softmax(logits):\n",
    "  # ...\n",
    "```\n",
    "\n",
    "and use it in your model as follows:\n",
    "\n",
    "\n",
    "```\n",
    "class LinearModel(Model):\n",
    "  def __init__(self):\n",
    "    super(LinearModel, self).__init__()\n",
    "    self.flatten = Flatten()\n",
    "    self.d1 = Dense(10)\n",
    "\n",
    "  def call(self, x):\n",
    "    x = self.flatten(x)\n",
    "    x = self.d1(x)\n",
    "    return my_softmax(x)\n",
    "``` \n",
    "\n",
    "Notice, we've removed the built-in activation method on the Dense layer, and added our own to the call method.\n",
    "\n",
    "Tip: You can implement softmax first using NumPy, if you like, the gradually convert your code to use TensorFlow ops (which begin with tf.\\* instead of np.\\*).\n",
    "\n",
    "Notes: \n",
    "\n",
    "- Your softmax implementation should be numerically stable. \n",
    "- You will need to use tf.* ops in order to use your code to train a model (TF cannot backprop through NumPy operations)."
   ]
  },
  {
   "cell_type": "code",
   "execution_count": 21,
   "metadata": {
    "colab": {
     "base_uri": "https://localhost:8080/",
     "height": 104
    },
    "id": "SiLj-uFrRAn-",
    "outputId": "6dab6d30-1b3e-4de5-896c-53c66fff719e"
   },
   "outputs": [
    {
     "name": "stdout",
     "output_type": "stream",
     "text": [
      "Epoch 1, Loss: 0.7872810363769531, Accuracy: 80.98500061035156, Test Loss: 0.4803951382637024, Test Accuracy: 87.87999725341797\n",
      "Epoch 2, Loss: 0.4561210572719574, Accuracy: 88.04000091552734, Test Loss: 0.40038084983825684, Test Accuracy: 89.54000091552734\n",
      "Epoch 3, Loss: 0.4033544659614563, Accuracy: 89.08332824707031, Test Loss: 0.36776527762413025, Test Accuracy: 90.16999816894531\n",
      "Epoch 4, Loss: 0.37708526849746704, Accuracy: 89.61166381835938, Test Loss: 0.3490351140499115, Test Accuracy: 90.66000366210938\n",
      "Epoch 5, Loss: 0.3603782653808594, Accuracy: 89.97166442871094, Test Loss: 0.3361676335334778, Test Accuracy: 90.83000183105469\n"
     ]
    }
   ],
   "source": [
    "# TODO: your code here\n",
    "def my_softmax(x):  \n",
    "  # Write me\n",
    "  exp_x = tf.math.exp(x)\n",
    "  return exp_x/tf.reduce_sum(exp_x)\n",
    "\n",
    "class MyModel(Model):\n",
    "  def __init__(self):\n",
    "    super(MyModel, self).__init__()\n",
    "    self.flatten = Flatten()\n",
    "    self.d1 = Dense(10)\n",
    "\n",
    "  def call(self, x):\n",
    "    x = self.flatten(x)\n",
    "    x = self.d1(x)\n",
    "    return my_softmax(x)\n",
    "  \n",
    "model = MyModel()\n",
    "# Add code to train this model\n",
    "# When it's trained, the accuracy should be similar to the linear\n",
    "# model from part one (but not identical, the weights are initialized randomly)\n",
    "loss_object = tf.keras.losses.SparseCategoricalCrossentropy()\n",
    "optimizer = tf.keras.optimizers.SGD()\n",
    "\n",
    "train_loss = tf.keras.metrics.Mean(name='train_loss')\n",
    "train_accuracy = tf.keras.metrics.SparseCategoricalAccuracy(name='train_accuracy')\n",
    "\n",
    "test_loss = tf.keras.metrics.Mean(name='test_loss')\n",
    "test_accuracy = tf.keras.metrics.SparseCategoricalAccuracy(name='test_accuracy')\n",
    "\n",
    "@tf.function\n",
    "def train_step(images, labels):\n",
    "  with tf.GradientTape() as tape:\n",
    "    predictions = model(images)\n",
    "    loss = loss_object(labels, predictions)\n",
    "  gradients = tape.gradient(loss, model.trainable_variables)\n",
    "  optimizer.apply_gradients(zip(gradients, model.trainable_variables))\n",
    "\n",
    "  train_loss(loss)\n",
    "  train_accuracy(labels, predictions)\n",
    "\n",
    "@tf.function\n",
    "def test_step(images, labels):\n",
    "  predictions = model(images)\n",
    "  t_loss = loss_object(labels, predictions)\n",
    "\n",
    "  test_loss(t_loss)\n",
    "  test_accuracy(labels, predictions)\n",
    "\n",
    "\n",
    "EPOCHS = 5\n",
    "\n",
    "for epoch in range(EPOCHS):\n",
    "  for images, labels in train_ds:\n",
    "    train_step(images, labels)\n",
    "\n",
    "  for test_images, test_labels in test_ds:\n",
    "    test_step(test_images, test_labels)\n",
    "\n",
    "  template = 'Epoch {}, Loss: {}, Accuracy: {}, Test Loss: {}, Test Accuracy: {}'\n",
    "  print(template.format(epoch+1,\n",
    "                        train_loss.result(),\n",
    "                        train_accuracy.result()*100,\n",
    "                        test_loss.result(),\n",
    "                        test_accuracy.result()*100))\n",
    "\n",
    "  # Reset the metrics for the next epoch\n",
    "  train_loss.reset_states()\n",
    "  train_accuracy.reset_states()\n",
    "  test_loss.reset_states()\n",
    "  test_accuracy.reset_states()"
   ]
  },
  {
   "cell_type": "markdown",
   "metadata": {
    "id": "ksTNK-oBCgEx"
   },
   "source": [
    "The Accuracy is similar as result of 2a linear model."
   ]
  }
 ],
 "metadata": {
  "accelerator": "GPU",
  "colab": {
   "collapsed_sections": [],
   "name": "hw1.ipynb",
   "provenance": []
  },
  "kernelspec": {
   "display_name": "Python 3",
   "language": "python",
   "name": "python3"
  },
  "language_info": {
   "codemirror_mode": {
    "name": "ipython",
    "version": 3
   },
   "file_extension": ".py",
   "mimetype": "text/x-python",
   "name": "python",
   "nbconvert_exporter": "python",
   "pygments_lexer": "ipython3",
   "version": "3.7.4"
  }
 },
 "nbformat": 4,
 "nbformat_minor": 1
}
